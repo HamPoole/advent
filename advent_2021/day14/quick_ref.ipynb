{
 "cells": [
  {
   "cell_type": "code",
   "execution_count": 1,
   "metadata": {
    "collapsed": true
   },
   "outputs": [
    {
     "name": "stdout",
     "output_type": "stream",
     "text": [
      "['CH -> B', 'HH -> N', 'CB -> H', 'NH -> C', 'HB -> C', 'HC -> B', 'HN -> C', 'NN -> C', 'BH -> H', 'NC -> B', 'NB -> B', 'BN -> B', 'BB -> N', 'BC -> B', 'CC -> N', 'CN -> C']\n",
      "{'CH': 'CBH', 'HH': 'HNH', 'CB': 'CHB', 'NH': 'NCH', 'HB': 'HCB', 'HC': 'HBC', 'HN': 'HCN', 'NN': 'NCN', 'BH': 'BHH', 'NC': 'NBC', 'NB': 'NBB', 'BN': 'BBN', 'BB': 'BNB', 'BC': 'BBC', 'CC': 'CNC', 'CN': 'CCN'}\n"
     ]
    }
   ],
   "source": [
    "with open(file=\"/home/urthor/projects/advent_of_code/advent_2021/day14/input14\") as myinput:\n",
    "    input_file = myinput.readlines()\n",
    "\n",
    "input_text = [x[:-1] for x in input_file]\n",
    "\n",
    "first_line = input_text[0]\n",
    "\n",
    "to_split = [x for x in input_text[2:]]\n",
    "\n",
    "print(to_split)\n",
    "\n",
    "split_mapping = {key[:2]: -1 for key in to_split}\n",
    "\n",
    "for index in range(len(split_mapping.keys())):\n",
    "    key = to_split[index][:2]\n",
    "    split_mapping[key] = key[0] + to_split[index][-1] + key[1]\n",
    "\n",
    "print(split_mapping)\n",
    "\n"
   ]
  },
  {
   "cell_type": "code",
   "execution_count": 2,
   "outputs": [
    {
     "name": "stdout",
     "output_type": "stream",
     "text": [
      "NBC\n"
     ]
    }
   ],
   "source": [
    "print(split_mapping[\"NC\"])"
   ],
   "metadata": {
    "collapsed": false,
    "pycharm": {
     "name": "#%%\n"
    }
   }
  },
  {
   "cell_type": "code",
   "execution_count": 3,
   "outputs": [],
   "source": [
    "a = 'NBBNBNBBCCNBCNCCNBBNBBNBBBNBBNBBCBHCBHHNHCBBCBHCB'\n",
    "b = 'NBBNBNBBCCNBCNCCNBBNBBNBBBNBBNBBCBHCBHHNHCBBCBHCB'\n",
    "\n",
    "assert a == b"
   ],
   "metadata": {
    "collapsed": false,
    "pycharm": {
     "name": "#%%\n"
    }
   }
  }
 ],
 "metadata": {
  "kernelspec": {
   "display_name": "Python 3",
   "language": "python",
   "name": "python3"
  },
  "language_info": {
   "codemirror_mode": {
    "name": "ipython",
    "version": 2
   },
   "file_extension": ".py",
   "mimetype": "text/x-python",
   "name": "python",
   "nbconvert_exporter": "python",
   "pygments_lexer": "ipython2",
   "version": "2.7.6"
  }
 },
 "nbformat": 4,
 "nbformat_minor": 0
}